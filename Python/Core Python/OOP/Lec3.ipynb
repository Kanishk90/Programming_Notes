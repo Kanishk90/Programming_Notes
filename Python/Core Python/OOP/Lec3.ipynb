{
 "cells": [
  {
   "cell_type": "markdown",
   "metadata": {},
   "source": [
    "Aggregation(Has a Relationship)"
   ]
  },
  {
   "cell_type": "code",
   "execution_count": 27,
   "metadata": {},
   "outputs": [],
   "source": [
    "class Customer:\n",
    "    def __init__(self,name,gender,address):\n",
    "        self.name = name\n",
    "        self.gender = gender\n",
    "        self.address = address \n",
    "    def print_address(self):\n",
    "        print(self.address.get_city(),self.address.pin,self.address.state)\n",
    "\n",
    "    def edit_profile(self,new_name,new_city,new_pin,new_state):\n",
    "        self.name = new_name\n",
    "        self.address.edit_address(new_city,new_pin,new_state)\n",
    "class Address:\n",
    "    def __init__(self,city,pin,state):\n",
    "        self.__city = city\n",
    "        self.pin = pin\n",
    "        self.state = state\n",
    "    def get_city(self):\n",
    "        return self.__city\n",
    "    def edit_address(self,new_city,new_pin,new_state):\n",
    "        self.__city = new_city\n",
    "        self.pin = new_pin\n",
    "        self.state = new_state\n",
    "add1 = Address(\"Meerut\",250001,\"U.P\")\n",
    "cust = Customer(\"Kanish\",\"M\",add1)\n",
    "#cust.print_address()\n",
    "#cust.edit_profile(\"ankit\",\"mumbai\",\"11111\",\"Maharashtra\")\n",
    "#cust.print_address()\n"
   ]
  },
  {
   "cell_type": "markdown",
   "metadata": {},
   "source": [
    "Inheritance"
   ]
  },
  {
   "cell_type": "code",
   "execution_count": 32,
   "metadata": {},
   "outputs": [
    {
     "name": "stdout",
     "output_type": "stream",
     "text": [
      "Kanishk\n"
     ]
    }
   ],
   "source": [
    " # parent class\n",
    "class User:\n",
    "    def __init__(self):\n",
    "        self.name = 'Kanishk'\n",
    "    def login(self):\n",
    "        print(\"Login\")\n",
    "\n",
    "# child class\n",
    "class Student(User):\n",
    "    # def __init__(self):#method override.\n",
    "    #     self.rollno = 123\n",
    "    def enroll(self):\n",
    "        print(\"enroll successfully\")\n",
    "#s.\n",
    "u = User()\n",
    "s = Student()\n",
    "print(s.name)\n"
   ]
  },
  {
   "cell_type": "code",
   "execution_count": null,
   "metadata": {},
   "outputs": [],
   "source": []
  }
 ],
 "metadata": {
  "kernelspec": {
   "display_name": "Python 3",
   "language": "python",
   "name": "python3"
  },
  "language_info": {
   "codemirror_mode": {
    "name": "ipython",
    "version": 3
   },
   "file_extension": ".py",
   "mimetype": "text/x-python",
   "name": "python",
   "nbconvert_exporter": "python",
   "pygments_lexer": "ipython3",
   "version": "3.12.1"
  }
 },
 "nbformat": 4,
 "nbformat_minor": 2
}
